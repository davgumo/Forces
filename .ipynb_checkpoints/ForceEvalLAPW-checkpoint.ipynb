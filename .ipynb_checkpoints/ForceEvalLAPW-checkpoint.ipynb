{
 "cells": [
  {
   "cell_type": "markdown",
   "metadata": {
    "deletable": true,
    "editable": true
   },
   "source": [
    "<center>\n",
    "<h1>Evaluation of Atomic Forces within the FP-LAPW Method</h1>\n",
    "<br> **David Guzman** <br>\n",
    "**CMPMSD**\n",
    "</center>"
   ]
  },
  {
   "cell_type": "code",
   "execution_count": 1,
   "metadata": {
    "collapsed": false,
    "deletable": true,
    "editable": true
   },
   "outputs": [
    {
     "data": {
      "application/javascript": [
       "MathJax.Hub.Config({\n",
       "    TeX: { equationNumbers: { autoNumber: \"AMS\" } }\n",
       "});"
      ],
      "text/plain": [
       "<IPython.core.display.Javascript object>"
      ]
     },
     "metadata": {},
     "output_type": "display_data"
    }
   ],
   "source": [
    "%%javascript\n",
    "MathJax.Hub.Config({\n",
    "    TeX: { equationNumbers: { autoNumber: \"AMS\" } }\n",
    "});"
   ]
  },
  {
   "cell_type": "markdown",
   "metadata": {
    "deletable": true,
    "editable": true
   },
   "source": [
    "## I. DFT Total Energy"
   ]
  },
  {
   "cell_type": "markdown",
   "metadata": {
    "collapsed": true,
    "deletable": true,
    "editable": true
   },
   "source": [
    "The total energy consists of the functionals of the non-interacting many electron **kinetic $T[\\eta]$**, **electrostatic $U[\\eta]$**, and **exchance-correlation $E^{XC}[\\eta]$** energies\n",
    "\n",
    "$$\n",
    "\\begin{equation}\n",
    "E^{tot}[\\eta]=T[\\eta]+U[\\eta]+E^{XC}[\\eta]\n",
    "\\end{equation}\n",
    "$$\n",
    "\n",
    "The electron density that minimizes, $\\eta^{sc}(\\mathbf{r}$), the total energy $E^{tot}[\\eta]$ is found by solving self-consistently the KS equations.\n",
    "\n",
    "$$\n",
    "\\begin{equation}\n",
    "H\\psi_i(\\vec{r})=[\\hat{T}+V^{eff}(\\vec{r})]\\psi_i(\\vec{r})=\\epsilon_i\\psi_i(\\vec{r})\n",
    "\\end{equation}\n",
    "$$\n",
    "\n",
    "where the effective potential $V^{eff}(\\vec{r})$ is\n",
    "\n",
    "$$\n",
    "\\begin{equation}\n",
    "V^{eff}(\\vec{r})=V^{es}(\\vec{r})+V^{XC}(\\vec{r})\n",
    "\\end{equation}\n",
    "$$\n",
    "\n",
    "with the electrostatic potential $V^{es}(\\vec{r})$ created by the electron density $\\eta(\\vec{r})$ and nuclear charge $Z_I$, as shown bellow\n",
    "\n",
    "$$\n",
    "\\begin{equation}\n",
    "V^{es}(\\vec{r})=\\int d^3\\vec{r}'\\frac{\\eta(\\vec{r}')}{|\\vec{r}-\\vec{r}'|}-\\sum_I\\frac{Z_I}{|\\vec{r}-\\vec{R}_I|}.\n",
    "\\end{equation}\n",
    "$$\n",
    "\n",
    "The electron denisty if given by \n",
    "$$\n",
    "\\begin{equation}\n",
    "\\eta(\\vec{r})=\\sum_{i=1}^{\\infty}f_i\\psi_i^*(\\vec{r})\\psi_i(\\vec{r})\n",
    "\\end{equation}\n",
    "$$\n",
    "\n",
    "where $f_i$ are the occupation numbers of the eigenstates $\\psi_i(\\vec{r})$. The XC potential $V^{XC}(\\vec{r})$ is computed as\n",
    "\n",
    "$$\n",
    "\\begin{equation}\n",
    "V^{XC}(\\vec{r})=\\frac{\\partial E^{XC}[\\eta]}{\\partial \\eta}\n",
    "\\end{equation}\n",
    "$$\n",
    "\n",
    "The Kohn-Sham total energy $E^{tot}[\\eta]$ is calculated using the expressions:\n",
    "\n",
    "$$\n",
    "\\begin{equation}\n",
    "T[\\eta]=\\sum_{i=1}^\\infty f_i\\epsilon_i - \\int d^3\\vec{r}\\eta(\\vec{r})V^{eff}(\\vec{r})\n",
    "\\end{equation}\n",
    "$$\n",
    "\n",
    "$$\n",
    "\\begin{equation}\n",
    "U[\\eta]=\\frac{1}{2}\\int d^3\\vec{r}d^3\\vec{r}'\\frac{\\eta(\\vec{r})\\eta(\\vec{r}')}{|\\vec{r}-\\vec{r}'|} - \\int d^3\\vec{r}\\eta(\\vec{r})\\sum_I\\frac{Z_I}{|\\vec{r}-\\vec{R}_I|} + \\frac{1}{2}\\sum_{I\\neq J}\\frac{Z_IZ_J}{|\\vec{R}_I-\\vec{R}_J|}\n",
    "\\end{equation}\n",
    "$$\n",
    "\n",
    "$$\n",
    "\\begin{equation}\n",
    "E^{XC}[\\eta]=\\int d^3\\vec{r}\\eta(\\vec{r})\\epsilon^{XC}[\\eta](\\vec{r})\n",
    "\\end{equation}\n",
    "$$\n",
    "\n",
    "where $\\epsilon^{EX}[\\eta]$ is the XC energy per particle.\n",
    "\n",
    "For finite temperature and/or to stabilize the convergence of the sefl-consistent field (SCF) calculation the electronic states can be occupied following the Fermi distribution at a finite electronic temperature $T^{el}$\n",
    "\n",
    "$$\n",
    "\\begin{equation}\n",
    "f_i=\\left[1+exp\\left(\\frac{\\epsilon_i-\\epsilon_F}{k_B T^{el}}\\right)\\right]^{-1}\n",
    "\\end{equation}\n",
    "$$\n",
    "\n",
    "where $\\epsilon_F$ is the Fermi energy and $k_B$ is the the Boltzmann constant.\n",
    "\n",
    "In such case the **free energy** would need to be minimize.\n",
    "\n",
    "$$\n",
    "\\begin{equation}\n",
    "\\mathcal{F}[\\eta]=E^{tot}[\\eta]-T^{el}S^{el}\n",
    "\\end{equation}\n",
    "$$\n",
    "\n",
    "with the electronic entropy $S^{el}$ given by\n",
    "\n",
    "$$\n",
    "\\begin{equation}\n",
    "S^{el}=-2k_B\\sum_i\\left[f_i\\ log\\ f_i + (1-f_i)\\log\\ (1-f_i)\\right]-S_0\n",
    "\\end{equation}\n",
    "$$\n",
    "\n",
    "$S_0$ is chosen such that the entropy $S^{el}$ vanishes at $T^{el}=0$ K."
   ]
  },
  {
   "cell_type": "markdown",
   "metadata": {
    "deletable": true,
    "editable": true
   },
   "source": [
    "## II. Forces within DFT"
   ]
  },
  {
   "cell_type": "markdown",
   "metadata": {
    "deletable": true,
    "editable": true
   },
   "source": [
    "The force on the $I$-th nucleus is defined as the negative derivative of the free energy with respect to the nuclear coordinate $\\vec{R}_I$\n",
    "\n",
    "$$\n",
    "\\begin{equation}\n",
    "F_I=-\\frac{dE^{tot}-T^{el}dS^{el}}{d\\vec{R}_I}\n",
    "\\end{equation}\n",
    "$$\n",
    "\n",
    "This is computed by displacing the repective nucleus by a small amount $\\Delta\\vec{R}_I$ and then calculating the resulting first-order change of the free energy $\\Delta\\mathcal{F}$.\n",
    "\n",
    "The first-order variations of $T[\\eta]$, $U[\\eta]$, and $E^{XC}[\\eta]$ are as follows:\n",
    "\n",
    "$$\n",
    "\\begin{equation}\n",
    "\\Delta T[\\eta] = \\sum_{i=1}^\\infty \\Delta f_i\\epsilon_i + \\sum_{i=1}^\\infty f_i\\Delta\\epsilon_i - \\int d^3\\vec{r}\\Delta\\eta(\\vec{r})V^{eff}(\\vec{r}) - \\int d^3\\vec{r}\\eta(\\vec{r})\\Delta V^{eff}(\\vec{r})\n",
    "\\end{equation}\n",
    "$$\n",
    "\n",
    "$$\n",
    "\\begin{equation}\n",
    "\\Delta U[\\eta] = \\int d^3\\vec{r}\\Delta\\eta(\\vec{r})V^{es}(\\vec{r}) - \\vec{F}_I^{HF}\\Delta \\vec{R}_I\n",
    "\\end{equation}\n",
    "$$\n",
    "\n",
    "$$\n",
    "\\begin{equation}\n",
    "\\Delta E^{XC}[\\eta] = \\int d^3\\vec{r}\\Delta(\\vec{r})V^{XC}(\\vec{r})\n",
    "\\end{equation}\n",
    "$$\n",
    "\n",
    "The first term in the expression of $\\Delta T[\\eta]$, $\\sum_i\\Delta f_i\\epsilon_i$, vanishes to first-order in $\\Delta \\vec{R}_I$ due to electron-number conservation.\n",
    "\n",
    "The classical electrostatic force exerted on the $I$-th nucleus by all other charges in the system is given by the Hellmann-Feynman force $\\vec{F}_I^{HF}$ expressed as\n",
    "\n",
    "$$\n",
    "\\begin{equation}\n",
    "\\vec{F}_I^{HF} = Z_I\\nabla_{\\vec{r}}V_I^{es}(\\vec{r})\\Big|_{\\vec{r}=\\vec{R}_I}\n",
    "\\end{equation}\n",
    "$$\n",
    "\n",
    "where $V_I^{es}(\\vec{r})$ is given electrostatic potential felt by the $I$-th nucleus given by\n",
    "\n",
    "$$\n",
    "\\begin{equation}\n",
    "V_I^{es}(\\vec{r})=V^{es}(\\vec{r})+\\frac{Z_I}{|\\vec{r}-\\vec{R}_I}.\n",
    "\\end{equation}\n",
    "$$\n",
    "\n",
    "Using the definition of the effective potential, the force on the $I$-th nucleus can be written in a more familiar way as follows\n",
    "\n",
    "$$\n",
    "\\begin{equation}\n",
    "\\vec{F}=\\vec{F}_I^{HF}-\\frac{1}{\\Delta \\vec{R}_I}\\left\\{\\sum_{i=1}^\\infty f_i\\Delta \\epsilon_i - \\int d^3\\vec{r} \\eta^{sc}(\\vec{r})\\Delta V^{eff}(\\vec{r})\\right\\}\n",
    "\\end{equation}\n",
    "$$\n",
    "\n",
    "where the first term can be easily evaluated using $\\vec{F}_I^{HF}=Z_I\\nabla_{\\vec{r}}V_I^{es}(\\vec{r})\\Big|_{\\vec{r}=\\vec{R}_I}$. Ths second term describes the Pulay forces correction to the HF forces. The expression of the Pulay forces depends on how the KS equation is solved."
   ]
  },
  {
   "cell_type": "markdown",
   "metadata": {
    "collapsed": true,
    "deletable": true,
    "editable": true
   },
   "source": [
    "## III. Basis Set Corrections to HF Forces"
   ]
  },
  {
   "cell_type": "markdown",
   "metadata": {
    "deletable": true,
    "editable": true
   },
   "source": [
    "A KS wavefunction $\\psi=\\psi_I(\\vec{r})$ can usually be expanded at the eigenvalue $\\epsilon=\\epsilon_i$ linearly using a set of basis functions $\\phi_\\nu$,\n",
    "\n",
    "$$\n",
    "\\begin{equation}\n",
    "\\psi=\\sum_\\nu C_\\nu\\phi_\\nu.$$\n",
    "\n",
    "With this, the KS equation becomes\n",
    "\n",
    "$$\n",
    "\\begin{equation}\n",
    "\\sum_\\mu (H_{\\mu\\nu}-\\epsilon O_{\\mu\\nu})C_\\nu = 0$$\n",
    "Or\n",
    "$$\n",
    "\\begin{equation}\n",
    "\\sum_{\\mu\\nu} C^*_\\mu(H_{\\mu\\nu}-\\epsilon O_{\\mu\\nu})C_\\nu = 0.$$\n",
    "\n",
    "Where the Hamiltonian matrix elements are $H_{\\mu\\nu}=\\langle\\phi_\\mu|H|\\phi_\\nu\\rangle$ and the overlap matrix element are $O_{\\mu\\nu}=\\langle \\phi_\\mu|\\phi_\\nu\\rangle$.\n",
    "\n",
    "The above formulation also holds for shifted atomic configurations such as $\\vec{R}_I+\\Delta\\vec{R}_I$:\n",
    "$$\n",
    "\\begin{equation}\n",
    "\\sum_{\\mu\\nu} (C^*_\\mu + \\Delta C^*_\\mu)[H_{\\mu\\nu} + \\Delta H_{\\mu\\nu} - (\\epsilon + \\Delta\\epsilon) (O_{\\mu\\nu}+\\Delta O_{\\mu\\nu})](C_\\nu + \\Delta C_\\nu) = 0$$\n",
    "\n",
    "$$\n",
    "\\begin{equation}\n",
    "\\Delta H_{\\mu\\nu} = 2\\Re\\langle\\Delta\\phi_\\mu|H|\\phi_\\nu\\rangle + \\langle\\phi_\\mu|\\Delta \\hat{T} + V^{eff}|\\phi_\\nu\\rangle$$\n",
    "\n",
    "$$\n",
    "\\begin{equation}\n",
    "\\Delta O_{\\mu\\nu} = \\langle\\Delta\\phi_\\mu|\\phi_\\nu\\rangle + \\langle\\phi_\\mu|\\Delta\\phi_\\nu\\rangle = 2Re\\langle\\Delta\\phi_\\mu|\\phi_\\nu\\rangle$$\n",
    "\n",
    "For first order changes in $\\Delta\\vec{R}_I$, secular equation becomes\n",
    "\n",
    "$$\n",
    "\\begin{equation}\n",
    "\\sum_{\\mu\\nu}C^*_\\mu C_\\nu (\\Delta H_{\\mu\\nu}-\\epsilon\\Delta O_{\\mu\\nu} - \\Delta \\epsilon O_{\\mu\\nu})=0.$$\n",
    "\n",
    "Using the normalization conditions\n",
    "$$\n",
    "\\begin{equation}\n",
    "\\sum_{\\mu\\nu}C^*_\\mu C_\\nu O_{\\mu\\nu}=1$$\n",
    "the linear change in $\\Delta\\epsilon$ of the KS eigenvalue $\\epsilon$ can be written as\n",
    "$$\n",
    "\\begin{align}\n",
    "\\Delta\\epsilon_i &= \\sum_{\\mu\\nu} C^*_\\mu C_\\nu [\\Delta H_{\\mu\\nu} - \\epsilon_i\\Delta O_{\\mu\\nu}\\\\\n",
    "&= \\sum_{\\mu\\nu} C^*_\\mu C_\\nu [2\\Re\\langle \\Delta \\phi_\\mu |H - \\epsilon_i| \\phi_\\mu\\rangle + \\langle \\phi_\\mu | \\Delta \\hat{T} + \\Delta V^{eff} | \\phi_\\nu\\rangle].\n",
    "\\end{align}\n",
    "$$\n",
    "\n",
    "Finally, the basis set correction to the HF force can be written as\n",
    "\n",
    "$$\n",
    "\\begin{equation}\n",
    "\\vec{F}_I = \\vec{F}^{HF}_I - \\sum_{i\\mu\\nu} f_i C^*_{i\\mu} C_{i\\nu} \\left[ 2\\Re\\langle\\frac{d\\phi_\\mu}{d\\vec{R}_I}\\Big|H-\\epsilon_i\\Big|\\phi_\\nu\\rangle + \\langle\\phi_\\mu\\Big|\\frac{d\\hat{T}}{d\\vec{R}_I}\\Big|\\phi_\\nu\\rangle\\right].$$\n",
    "\n",
    "Here, the following relation was used:\n",
    "$$\n",
    "\\int d^3\\vec{r}\\eta(\\vec{r})\\Delta V^{eff}(\\vec{r}) = \\sum_{i\\mu\\nu} f_i C^*_{i\\mu} C_{i\\nu} \\langle \\phi_\\mu|\\Delta V^{eff}(\\vec{r})|\\phi_\\nu\\rangle$$\n",
    "\n",
    "**Incomplete Basis Set Correction**\n",
    "\n",
    "The term \n",
    "\n",
    "$$\\sum_{i\\mu\\nu} f_i C^*_{i\\mu} C_{i\\nu} \\left[ 2\\Re\\langle\\frac{d\\phi_\\mu}{d\\vec{R}_I}\\Big|H-\\epsilon_i\\Big|\\phi_\\nu\\rangle \\right]$$\n",
    "\n",
    "is known as the incomplete basis set correction (IBS in YSK1991). The sum vanishes if the basis functions are independent of the atomic positions or if their first-order change in $\\Delta \\phi_\\mu$ falls within the subspace described by the original basis set ${\\phi_\\eta}$.\n",
    "$$|\\Delta\\phi_\\mu\\rangle = \\sum_\\eta |\\phi_\\eta\\rangle\\langle\\phi_\\nu|\\Delta\\phi_\\mu\\rangle$$\n",
    "\n",
    "The term $\\langle\\phi_\\mu|d\\hat{T}/d\\hat{R}_I|\\phi_\\nu$ may be non-zero if the kinetic energy is position dependent; that is, if the kinetic energy is discontinuous due to the use of a mixed basis set."
   ]
  },
  {
   "cell_type": "markdown",
   "metadata": {
    "deletable": true,
    "editable": true
   },
   "source": [
    "## IV. LAPW"
   ]
  },
  {
   "cell_type": "markdown",
   "metadata": {
    "deletable": true,
    "editable": true
   },
   "source": [
    "In the augmented plane-wave (APW) methods the space is divided into the interstitial (IR) and non-overlapping muffin-tin (MT) spheres centered at the atomic sites. With this the atomic-like character of the wavefunctions, potential, and electron density close to the nuclei can be described accurately.\n",
    "\n",
    "In the IR the basis set consists of plane waves $exp(i\\vec{K}\\vec{r})$. In the original APW formulation by Slater, the plane-waves are augmented to the exact solution of the Schrodindger equation within the MT at the calculated eigenvalues. This technique is exact but computationally very expensive because it introduces an explicit energy dependence of the Hamilton and overlap matrices. Instead of performing a single diagonalization to solve the KS equation, the determinant of the secular equation needs to be calculated repeatedly in order to find its zeros and thus the single particle eigenvalue $\\epsilon_i$.\n",
    "\n",
    "In the linearized APW (LAPW) this dificulty is overcome by using a fixed set of suitable MT radial functions. Within the Andersen's approach radial solutions $u_l^I(\\epsilon_l^I,r_I)$ of the KS equation at fixed energies $\\epsilon_l^I$ and their energy derivatives $\\dot{u}_l^I(\\epsilon_l^I,r_I)$ are used. This choice correspond to a linearization of $u_l^I(\\epsilon_l^I,r_I)$ around $\\epsilon_l^I$; this implies that the radial functions $u_l^I(\\epsilon_l)$ and $\\dot{u}_l^I(\\epsilon_l)$ and respective Hamilton and overlap matrix elements need to be computed only for a few energies $\\epsilon_l^I$\n",
    "\n",
    "The LAPW basis functions $\\phi_{\\vec{K}}(\\vec{r})$ used for the expansion of the Kohn-Sham wavefunctions are\n",
    "$$\\psi_{\\vec{k},i}(\\vec{r}) = \\sum_{|\\vec{K}|\\leq K^{wf}} C_i(\\vec{K})\\phi_{\\vec{K}}(\\vec{r})$$\n",
    "\n",
    "$$\n",
    "\\phi_{\\vec{K}}(\\vec{r}) = \n",
    "\\begin{cases}\n",
    "      \\Omega^{-1/2}exp(i\\vec{K}\\vec{r}), & \\vec{r} \\in  IR \\\\\n",
    "      \\sum_{lm}\\left[a_{lm}^I(\\vec{K})u_l^I(\\epsilon_l^I,r_I) + b_{lm}^I(\\vec{K})\\dot{u}_l^I(\\epsilon_l^I,r_I)\\right]Y_{lm}(\\hat{r}) & r_I\\leq s_I. \\\\\n",
    "   \\end{cases}\n",
    "$$\n",
    "\n",
    "Where $\\vec{K}=\\vec{k}+\\vec{G}$ denotes the sum of a reciprocal lattice vector $\\vec{G}$ and a vector $\\vec{k}$ within the first Brillouin zone. The wavefunction cutoff $K^{wf}$ limits the number of $\\vec{K}$ vectors and thus the size of the basis set. In the previous equation, $\\Omega$ is the unit cell volume, $s_I$ is the MT radius, and $\\vec{r}_I=\\vec{r}-\\vec{R}I$ is a vector within the MT sphere of the $I$-th atom. $Y_{lm}(\\hat{r})$ represents a complex spherical harmonic with $Y_{l-m}(\\hat{r})=(-1)^mY^*_{lm}(\\hat{r})$.\n",
    "\n",
    "The radial functions $u_l(\\epsilon_l,r)$ and $\\dot{u}_l(\\epsilon_l,r)$ are solutions of \n",
    "\n",
    "$$H^{sph}u_l(\\epsilon_l,r)Y_{lm}(\\hat{r}) = \\epsilon_lu_l(\\epsilon_l,r)Y_{lm}(\\hat{r})$$\n",
    "\n",
    "$$H^{sph}\\dot{u}_l(\\epsilon_l,r)Y_{lm}(\\hat{r}) = [\\epsilon_l\\dot{u}_l(\\epsilon_l,r) + u_l(\\epsilon_l,r)]Y_{lm}(\\hat{r})$$\n",
    "\n",
    "*Requiring that the value and slope of the basis functions are continuous at the surface of the MT sphere the coefficients $a_{lm}(\\vec{K})$ and $b_{lm}(\\vec{K})$ are determined.*\n",
    "\n",
    "Similarly, the representations of the potentials and densities resembles that of the wavefunctions.\n",
    "\n",
    "$$\n",
    "V^{eff}(\\vec{r}) = \n",
    "\\begin{cases}\n",
    "      \\sum_{|\\vec{G}| \\leq G^{pot}} V^{eff}_{\\vec{G}}exp(i\\vec{G}\\vec{r}), & \\vec{r} \\in  IR \\\\\n",
    "      \\sum_{lm} V_{lm}^{eff}(r_I)Y_{lm}(\\hat{r}_I) & r_I\\leq s_I. \\\\\n",
    "   \\end{cases}\n",
    "$$\n",
    "\n",
    "In this approach, no shape approximation is introduced. The quality of this full-potential description is controlled by the cutoff $G^{pot}$ for the lattice vectors $\\vec{G}$ and the size of the $(l,m)$-representation inside the MT spheres."
   ]
  },
  {
   "cell_type": "markdown",
   "metadata": {
    "deletable": true,
    "editable": true
   },
   "source": [
    "## V. Forces in LAPW"
   ]
  },
  {
   "cell_type": "markdown",
   "metadata": {
    "deletable": true,
    "editable": true
   },
   "source": [
    "The basis set functions $\\phi_{\\vec{K}}(\\vec{r})$ are centered at the nuclei positions $\\vec{R}_I$ and move with the atoms. Also, the single-particle kinetic energy is not continous at the MT sphere boundaries where both types of basis functions need to be matched. Thus both matrix elements\n",
    "$$\\langle\\frac{d\\phi_\\mu}{d\\vec{R}_I}\\Big|H-\\epsilon_i\\Big|\\phi_\\nu\\rangle$$ and $$\\langle\\phi_\\mu\\Big|\\frac{d\\hat{T}}{d\\vec{R}_I}\\Big|\\phi_\\nu\\rangle$$\n",
    "have to be carefully considered for accurate force calculations.\n",
    "\n",
    "According to YSK, the force on the $I$-th atom can be written as\n",
    "$$\\vec{F}_I = \\vec{F}^{HF}_{I} + \\vec{F}^{core}_{I} + \\vec{F}^{semi}_I + \\vec{F}^{val}_I$$\n",
    "\n",
    "where $\\vec{F}^{val}_I$ and $\\vec{F}^{semi}_I$ are the Pulay corretions due to valence and semicore electrons. $\\vec{F}^{core}_I$ is the core term.\n",
    "\n",
    "In the FP-LAPW the electrostatic potential $V^{es}_I(\\vec{r})$ is needed for the evaluation of the KS effective potential $V^{eff}(\\vec{r})$, so the calculation of the HF force is straight forward:\n",
    "\n",
    "$$\\boxed{\\vec{F}^{HF}_I = Z_I \\sum_{m=-1}^{1} \\lim_{r_I\\to 0} \\frac{V^{es}_{1m,I}(r_I)}{r_I}\\nabla_{\\vec{r}_I}[r_IY_{1m}(\\hat{r}_I)]}$$\n",
    "\n",
    "$$\n",
    "\\boxed{\\vec{F}^{HF}_I = Z_I \\sqrt{\\frac{3}{8\\pi}}\\lim_{r_I\\to 0}\\frac{1}{r_I}\n",
    "\\begin{pmatrix}\n",
    "-V^{es}_{11,I}(\\vec{r}_I) + V^{es}_{1-1,I}(\\vec{r}_I) \\\\\n",
    "-iV^{es}_{11,I}(\\vec{r}_I) - iV^{es}_{1-1,I}(\\vec{r}_I) \\\\\n",
    "\\sqrt{2}V^{es}_{10,I}(\\vec{r}_I)\n",
    "\\end{pmatrix}}\n",
    "$$\n",
    "\n",
    "Within the FP-LAPW method, the core electron density $\\eta^{core}(\\vec{r})$ is calculated using the spherical part of the Hamiltonian. Thus, the core wavefunctions of the KS equation are an *incomplete set* of spherical basis functions $\\phi^{core}_\\nu(\\vec{r})$:\n",
    "\n",
    "$$\\nabla_{\\vec{R}_I}\\phi^{core}_\\nu(\\vec{r}) = -\\nabla_{\\vec{r}}\\phi^{core}_\\nu(\\vec{r}),$$\n",
    "\n",
    "and the matrix elements in the incomplete basis set correction is written as:\n",
    "\n",
    "$$\\Re\\langle -\\nabla_{\\vec{r}}\\phi^{core}_\\nu | H-\\epsilon_i | \\phi^{core}_\\nu\\rangle = \\int d^3\\vec{r}\\phi^{core*}_\\nu(\\vec{r})\\nabla_{\\vec{r}}(H-\\epsilon_i)\\phi^{core}_\\nu(\\vec{r}) - \\int d^3\\vec{r}\\nabla_{\\vec{r}}\\{\\phi^{core*}_\\nu(\\vec{r})[H-\\epsilon_i]\\phi^{core}_\\nu(\\vec{r})\\}.$$\n",
    "\n",
    "Since $\\nabla_{\\vec{r}}(H-\\epsilon_i)=\\nabla_{\\vec{r}}V^{eff}(\\vec{r})$ and the second term in the above equation vanishes when integrated at the MT boundaries, the resulting expression for the core contribution is:\n",
    "\n",
    "$$\\boxed{\\vec{F}^{core}_I = -\\int d^3\\vec{r}\\eta^{core}(\\vec{r})\\nabla_{\\vec{r}}V^{eff}(\\vec{r}).}$$\n",
    "\n",
    "And for the valence (semicore) contribution\n",
    "\n",
    "$$\n",
    "\\begin{align*}\n",
    "\\vec{F}^{val}_I = &\\int_I d^3\\vec{r} V^{eff}(\\vec{r})\\nabla_{\\vec{r}}\\eta^{val}(\\vec{r}) + \\sum_{\\vec{k},i}f_{\\vec{k},i}\\sum_{\\vec{K},\\vec{K}'}C^*_i(\\vec{K}')C_i(\\vec{K}) \\\\\n",
    "& \\times \\left[ (\\vec{K}^2-\\epsilon_i)\\oint d\\vec{S}_I\\phi^*_{\\vec{K}'}(\\vec{r})\\phi_{\\vec{K}}(\\vec{r}) - i(\\vec{K}-\\vec{K}')\\langle \\phi_{\\vec{K}'} |H-\\epsilon_i| \\phi_{\\vec{K}}\\rangle_I\\right].\n",
    "\\end{align*}\n",
    "$$\n",
    "\n",
    "The expression for the semicore correction is equivalent to $\\vec{F}^{val}_I$. The terms $\\langle \\phi_{\\vec{K}'} |H-\\epsilon_i| \\phi_{\\vec{K}}\\rangle_I$ are given by the Hamilton and overlap matrix elements. The integrals in $\\vec{F}^{core}_I$ and the first term of $\\vec{F}^{val}_I$ can be evaluated from the general form\n",
    "\n",
    "$$\n",
    "\\begin{align*}\n",
    "\\int d^3\\vec{r}\\nabla_{\\vec{r}}[f(r)Y^*_{lm}(\\hat{r})]g(r)Y_{l'm'}(\\hat{r}) = &\\int d^3\\vec{r} \\frac{f(r)g(r)}{r}r\\nabla_{\\vec{r}}Y^*_{lm}(\\hat{r})Y_{l'm'}(\\hat{r})\\\\ \n",
    "&+ \\frac{df(r)}{dr}g(r)\\hat{r}Y^*_{lm}(\\hat{r})Y_{l'm'}(\\hat{r})\n",
    "\\end{align*}\n",
    "$$"
   ]
  },
  {
   "cell_type": "code",
   "execution_count": null,
   "metadata": {
    "collapsed": true,
    "deletable": true,
    "editable": true
   },
   "outputs": [],
   "source": []
  }
 ],
 "metadata": {
  "kernelspec": {
   "display_name": "Python 3",
   "language": "python",
   "name": "python3"
  },
  "language_info": {
   "codemirror_mode": {
    "name": "ipython",
    "version": 3
   },
   "file_extension": ".py",
   "mimetype": "text/x-python",
   "name": "python",
   "nbconvert_exporter": "python",
   "pygments_lexer": "ipython3",
   "version": "3.5.2"
  }
 },
 "nbformat": 4,
 "nbformat_minor": 2
}
