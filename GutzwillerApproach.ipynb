{
 "cells": [
  {
   "cell_type": "markdown",
   "metadata": {
    "deletable": true,
    "editable": true
   },
   "source": [
    "<center>\n",
    "<h1>Gutzwiller Approach</h1>\n",
    "<br> David Guzman <br>\n",
    "CMPMSD\n",
    "</center>"
   ]
  },
  {
   "cell_type": "markdown",
   "metadata": {
    "deletable": true,
    "editable": true
   },
   "source": [
    "## I. Hubbard Hamiltonian"
   ]
  },
  {
   "cell_type": "markdown",
   "metadata": {
    "deletable": true,
    "editable": true
   },
   "source": [
    "$$\\hat{H}=\\sum_{i,\\sigma}\\varepsilon_0\\hat{n}_{i,\\sigma}+\\frac{1}{2}U\\sum_{i,\\sigma}\\hat{n}_{i,\\sigma}\\hat{n}_{i,-\\sigma}-\\sum_{i\\neq j,\\sigma}t_{ij}c^\\dagger_{i\\sigma}c_{j,\\sigma}$$\n",
    "where i,j label the sites in the lattice and $\\hat{n}_{i,\\sigma}=c^\\dagger_{i\\sigma}c_{i\\sigma}$"
   ]
  },
  {
   "cell_type": "markdown",
   "metadata": {
    "deletable": true,
    "editable": true
   },
   "source": [
    "**Consequence of Hartree-Fock**\n",
    "\n",
    "For the Hubbard model the only effect is that the energy of a spin $\\uparrow$ electron is shifted by $U\\left<\\hat{n}_{i\\downarrow}\\right>$ and similarly for a $\\downarrow$ electron."
   ]
  },
  {
   "cell_type": "markdown",
   "metadata": {
    "deletable": true,
    "editable": true
   },
   "source": [
    "## II. Gutzwiller Approach"
   ]
  },
  {
   "cell_type": "markdown",
   "metadata": {
    "deletable": true,
    "editable": true
   },
   "source": [
    "The Gutzwiller approach consists of two separate approximations. The first is the Gutzwiller wavefunction, and the second is knwon as the Gutzwiller approximation."
   ]
  },
  {
   "cell_type": "markdown",
   "metadata": {
    "deletable": true,
    "editable": true
   },
   "source": [
    "**Gutzwiller Wavefunction**\n",
    "\n",
    "$$|\\left.\\Psi_G\\right>=g^{\\sum_i^N \\hat{n}_{i\\uparrow}\\hat{n}_{i\\downarrow}}|\\Psi_{HF}\\left.\\right>=\\prod_i^N g^{\\hat{n}_{i,\\uparrow}\\hat{n}_{i,\\downarrow}}|\\left.\\Psi_{HF}\\right>=\\prod_i^N [1-(1-g)\\hat{n}_{i,\\uparrow}\\hat{n}_{i,\\downarrow}]|\\Psi_{HF}\\left.\\right>$$\n",
    "\n",
    "where $N$ is the number of sites, $\\Psi_{HF}$ is a single determinant (like the Hartree-Fock wavefunction), and the correlation factor ($g)$ reduces the probability of double occupation.\n",
    "\n",
    "The strength of the correlation if governed by the parameter $g$:\n",
    "\n",
    "-- For $g=1$, there is no correlation\n",
    "\n",
    "-- For $0\\leq g < 1$, the quantity in brackets ($[1-(1-g)\\hat{n}_{i,\\uparrow}\\hat{n}_{i,\\downarrow}]$) is $1$ if either $\\hat{n}_{i,\\uparrow}=0$ or $\\hat{n}_{i,\\downarrow}=0$, or it is equal to $g$ if the site is doubly occupied with $\\hat{n}_{i,\\uparrow} \\hat{n}_{i,\\downarrow}=1$.\n",
    "\n",
    "The Gutzwiller wave function is a simplified form of the Slater-Jastrow function appropriate for a lattice model. By reducing the probability of unlike-spin electrons being on the same lattice site, it reduces the interaction energy. At the same time, this increases the kinetic energy since the probability of hopping is reduced.\n",
    "\n",
    "$$E=\\frac{\\left<\\Psi_G|\\hat{H}|\\Psi_G\\right>}{\\left<\\Psi_G|\\Psi_G\\right>}$$\n",
    "\n",
    "In a variational method, the best wavefunction of this form is found by minimizing the expectation value of the hamiltonian with reapect to $g$."
   ]
  },
  {
   "cell_type": "markdown",
   "metadata": {
    "deletable": true,
    "editable": true
   },
   "source": [
    "**Gutzwiller Approximation**\n",
    "\n",
    "The total energy can be express as\n",
    "\n",
    "$$E_G/N=q_\\uparrow\\bar{\\varepsilon}_\\uparrow+q_\\downarrow\\bar{\\varepsilon}_\\downarrow+Ud$$\n",
    "where\n",
    "$$\\bar{\\varepsilon}_\\sigma=\\frac{1}{N_k}\\sum_\\mathbf{k}^{occ}(\\varepsilon_{\\mathbf{k},\\sigma}-\\mu)$$\n",
    "where $d$ is the fraction of doubly occupied sites and $\\bar{\\varepsilon}_\\sigma$ is the kinetic energy per cell for uncorrelated particles. Note that $\\varepsilon_{\\mathbf{k},\\sigma}-\\mu<0$ for occupied states, so that $\\bar{\\varepsilon}_{\\sigma}<0$ and the factor $q\\leq1$ takes into account the reduced hooing due to repulsive interactions.\n",
    "\n",
    "Tha approximation is to assume that there is no correlation of spin and charge on neighboring sites, leading to\n",
    "\n",
    "$$q_\\sigma=\\frac{\\{[(n_\\sigma-d)(1-n_\\sigma-n_{-\\sigma}+d)]^{\\frac{1}{2}}+[(n_{-\\sigma}-d)d]^\\frac{1}{2}\\}^2}{n_\\sigma(1-n_\\sigma)}$$\n",
    "\n",
    "Minimizing the energy in $(E_G/N)$ as a function of $d$ leads to remarkably simple conclusions. \n",
    "\n",
    "-- For any filling of the band other than $\\frac{1}{2}$, the Gutzwiller approximation gives a renormalized metal with a reduced kinetic energy, which is interpreted as an effective mass increased by the factor $1/q$, and Fermi surface that is the same as the original unrenormalized Fermi surface.\n",
    "\n",
    "-- For a half-filled band with $n_\\sigma+n_{-\\sigma}=1$, there are two types of solutions as a function of U: a metal with $q\\neq0$ or a solution with $q_\\uparrow=q_\\downarrow=d=0$. Although this is an unphysical result for any finite $U$, the approach to this limit with divergent effective mass is one paradigm for a metal-insulator transition."
   ]
  },
  {
   "cell_type": "code",
   "execution_count": null,
   "metadata": {
    "collapsed": true,
    "deletable": true,
    "editable": true
   },
   "outputs": [],
   "source": []
  }
 ],
 "metadata": {
  "kernelspec": {
   "display_name": "Python 3",
   "language": "python",
   "name": "python3"
  },
  "language_info": {
   "codemirror_mode": {
    "name": "ipython",
    "version": 3
   },
   "file_extension": ".py",
   "mimetype": "text/x-python",
   "name": "python",
   "nbconvert_exporter": "python",
   "pygments_lexer": "ipython3",
   "version": "3.5.2"
  }
 },
 "nbformat": 4,
 "nbformat_minor": 2
}
