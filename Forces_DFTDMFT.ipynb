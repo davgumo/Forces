{
 "cells": [
  {
   "cell_type": "markdown",
   "metadata": {
    "deletable": true,
    "editable": true
   },
   "source": [
    "<center>\n",
    "<h1>Forces within a DFT + embedded DMFT</h1>\n",
    "<br> David Guzman <br>\n",
    "CMPMSD\n",
    "</center>"
   ]
  },
  {
   "cell_type": "markdown",
   "metadata": {
    "collapsed": true,
    "deletable": true,
    "editable": true
   },
   "source": [
    "## I. Luttinger-Ward Approach"
   ]
  },
  {
   "cell_type": "markdown",
   "metadata": {},
   "source": [
    "In electronic structure methods, the force is computed using the analytical derivative of the total energy functional. In such case, is convenient to have a functional invariant against small changes of the electron density and Green's function. In fact, if the formulation of functional is exact, the force can be evaluated by small displacements of the nuclei at a fixed charge density (Green's function). Thus, the total derivative of the free energy functional $\\Gamma[G]$ can be split into two contributions:\n",
    "\n",
    "$$\n",
    "\\frac{\\delta \\Gamma[G]}{\\delta \\mathbf{R}_\\mu} = \\left(\\frac{\\partial \\Gamma[G]}{\\partial \\mathbf{R}_\\mu}\\right)_G + \\int d\\mathbf{r}d\\mathbf{r}' \\frac{\\delta G(\\mathbf{r}\\mathbf{r}')}{\\delta \\mathbf{R}_\\mu}\\left(\\frac{\\partial \\Gamma[G]}{\\partial G(\\mathbf{r}\\mathbf{r}')}\\right)_{R_\\mu}\n",
    "$$\n",
    "\n",
    "From the above, is clear that of the functional is stationary; that is $\\left(\\frac{\\partial \\Gamma[G]}{\\partial G}\\right)_{R_\\mu}=0$, then only the Hellmann-Feynman forces would contribute to the total forces on the $\\mu$-th ion.\n",
    "\n",
    "For Green's function approaches, such as DMFT, is convenient to express the free energy functional as the stationary Luttinger-Ward functional:\n",
    "\n",
    "$$\n",
    "\\Gamma[G] = Tr\\ Ln(-G) - Tr\\ ((G^{-1}_0-G^{-1})G) + \\Phi[G] + E_{nuclei}.\n",
    "$$\n",
    "\n",
    "This functional is stationary given that $\\left(\\frac{\\partial \\Gamma[G]}{\\partial G}\\right)_{R_\\mu}=G^{-1}-G^{-1}_0+\\frac{\\delta \\Phi[G]}{\\delta G}$ and since the system must satisfy the Dyson equation ($G^{-1}=G^{-1}_0-\\frac{\\delta \\Phi[G]}{\\delta G}$) it vanishes.\n",
    "\n",
    "The only terms that explicitly depend on the nucleus position are contained in $G^0$ and $E_{nulei}$, thus, the force is expressed as follows:\n",
    "\n",
    "$$\n",
    "\\begin{align*}\n",
    "\\frac{\\delta \\Gamma[G]}{\\delta \\mathbf{R}_\\mu} &= -Tr\\ \\left(G\\frac{\\partial G^{-1}_0}{\\partial \\mathbf{R}_\\mu}\\right) + \\frac{\\partial E_{nuclei}}{ \\mathbf{R}_\\mu}\\\\\n",
    "&= Tr\\ \\left(\\rho\\frac{\\partial V_{nuclei}}{\\partial \\mathbf{R}_\\mu}\\right) + \\frac{\\partial E_{nuclei}}{ \\mathbf{R}_\\mu}\n",
    "\\end{align*} \n",
    "$$\n",
    "\n",
    "where $G^{-1}_0=i\\omega_n+\\mu-T-V_{nuclei}$. Since the potential energy due to the nuclei is frequency dependent, the Green's function is replaced by the electron density when a partial trace is carried out over Matsubara frequencies,\n",
    "\n",
    "$$Tr\\ (G\\delta V_{nuclei}) = Tr\\ \\left(\\delta V_{nuclei}\\frac{1}{\\beta}\\sum_{i\\omega_n}G(i\\omega_n)\\right) = Tr\\ (\\rho V_{nuclei})$$\n",
    "The Hellmann-Feynman force is then:\n",
    "\n",
    "$$\n",
    "\\boxed{\\mathbf{F}^{HF}= -Tr\\ \\left(\\rho\\frac{\\partial V_{nuclei}}{\\partial \\mathbf{R}_\\mu}\\right) - \\frac{\\partial E_{nuclei}}{ \\mathbf{R}_\\mu}}\n",
    "$$"
   ]
  },
  {
   "cell_type": "markdown",
   "metadata": {},
   "source": [
    "## II. DFT+DMFT Forces"
   ]
  },
  {
   "cell_type": "markdown",
   "metadata": {},
   "source": [
    "With in the DFT+embedded DMFT approach, the functional consists of the following superposion of terms:\n",
    "\n",
    "$$\n",
    "\\boxed{\\Phi[G] = E_H[\\rho] + E_{XC}[\\rho] + \\sum_{\\mathbf{R}_\\mu}\\Phi^{DMFT}[G_{loc}^\\mu] - \\Phi^{DC}[\\rho^\\mu_{loc}].}\n",
    "$$\n",
    "\n",
    "In the above, the first two terms $E_H[\\rho]$ and $ E_{XC}[\\rho]$ come from the DFT equations, the third term $\\sum_{\\mathbf{R}_\\mu}\\Phi^{DMFT}[G_{loc}^\\mu]$ includes all skeleton Feynman diagrams that belong to the selected atoms $\\mathbf{R}_\\mu$. The last term $\\Phi^{DC}[\\rho^\\mu_{loc}]$ subtracts the interactions double counted by DFT & DMFT.\n",
    "\n",
    "In this approach, $\\Phi^{DMFT}$ is obtained from $\\Phi^{exact}$ by truncating the Green's function to its local components. The projector that defines the locality of the functional is taken to be a set of atom centered functions $|\\phi^\\mu_m\\rangle$:\n",
    "\n",
    "$$\n",
    "G^\\mu_{loc}(\\mathbf{r}\\mathbf{r}') = \\sum_{mm'}\\langle\\mathbf{r}|\\phi^\\mu_m\\rangle\\langle\\phi^\\mu_m|G|\\phi^\\mu_{m'}\\rangle\\langle\\phi^\\mu_{m'}|\\mathbf{r}'\\rangle\n",
    "$$\n",
    "\n",
    "The stationarity condition of the functional $\\Gamma[G]$ when using the DFT+EDMTF $\\Phi[G]$ produces the Dyson equation:\n",
    "\n",
    "$$\n",
    "G^{-1}-G^{-1}_0+(V_H+V_{XC})\\delta(\\mathbf{r}-\\mathbf{r}')\\delta(\\tau-\\tau')+\\sum_{mm',\\mathbf{R}_\\mu}\\langle\\mathbf{r}|\\phi^\\mu_m\\rangle\\langle\\phi^\\mu_m|\\Sigma-V_{DC}|\\phi^\\mu_{m'}\\rangle\\langle\\phi^\\mu_{m'}|\\mathbf{r}'\\rangle=0.\n",
    "$$\n",
    "\n",
    "For the extremal G, $\\Gamma[G]$ gives the free energy:\n",
    "\n",
    "$$\n",
    "\\begin{align*}\n",
    "\\mathcal{F} = &Tr\\ Ln(-G) - Tr\\ ((V_H+V_{XC})\\rho) + E_H[\\rho] + E_{XC}[\\rho] +E_{nuclei}\\\\ &- Tr\\ ((\\Sigma -V_{DC})\\langle\\phi|G|\\phi\\rangle) + \\sum_{\\mathbf{R}_\\mu} \\Phi^{DMFT}[G_{loc}^{\\mu}] - \\Phi^{DC}[\\rho_{loc}^{\\mu}] + \\mu N\n",
    "\\end{align*}\n",
    "$$\n",
    "\n",
    "Using \n",
    "\n",
    "$$\n",
    "\\left\\langle \\psi_{j\\mathbf{k}\\omega_n} | G |  \\psi_{i\\mathbf{k}\\omega_n}\\right\\rangle = \\frac{\\delta_{ij}}{i\\omega_n+\\mu-\\varepsilon_{\\mathbf{k}\\omega_n,i}}\n",
    "$$\n",
    "the logarithm of the Green's function can be evaluated:\n",
    "\n",
    "\n",
    "$$\n",
    "\\begin{align*}\n",
    "\\mathcal{F} = &-Tr\\ Ln(-i\\omega_n-\\mu+\\varepsilon_{\\mathbf{k}\\omega_n}) - Tr\\ ((V_H+V_{XC})\\rho) + E_H[\\rho] + E_{XC}[\\rho] +E_{nuclei}\\\\ &- Tr\\ ((\\Sigma -V_{DC})\\langle\\phi|G|\\phi\\rangle) + \\sum_{\\mathbf{R}_\\mu} \\Phi^{DMFT}[G_{loc}^{\\mu}] - \\Phi^{DC}[\\rho_{loc}^{\\mu}] + \\mu N\n",
    "\\end{align*}\n",
    "$$\n",
    "\n",
    "For small displacements of $\\mathbf{R}$, the variation in free energy is expressed as:\n",
    "\n",
    "$$\n",
    "\\begin{align*}\n",
    "\\delta\\mathcal{F} = &Tr\\ \\left(\\frac{\\delta\\varepsilon_{\\mathbf{k}\\omega_n}}{i\\omega_n+\\mu-\\varepsilon_{\\mathbf{k}\\omega_n}}\\right) - Tr\\ (\\rho\\delta V_{KS}) - Tr\\ (G_{loc}(\\delta\\Sigma -\\delta V_{DC})) - \\sum_\\mu \\mathbf{F^{HF}_\\mu}\\delta\\mathbf{R}_\\mu\n",
    "\\end{align*}\n",
    "$$\n",
    "where $V_{KS}=V_H+V_{XC}+V_{nuclei}$.\n",
    "\n",
    "From the above, the Pulay forces can be identified as:\n",
    "\n",
    "$$\n",
    "\\mathbf{F}^{Pulay}_\\mu = -Tr\\ \\left(\\frac{1}{i\\omega_n+\\mu-\\varepsilon_{\\mathbf{k}\\omega_n}}\\frac{\\delta\\varepsilon_{\\mathbf{k}\\omega_n}}{d\\mathbf{R}_\\mu}\\right) + Tr\\ \\left(\\rho\\frac{\\delta V_{KS}}{d\\mathbf{R}_\\mu}\\right) + Tr\\ \\left(G_{loc}\\frac{\\delta\\Sigma -\\delta V_{DC}}{d\\mathbf{R}_\\mu}\\right)\n",
    "$$"
   ]
  },
  {
   "cell_type": "markdown",
   "metadata": {},
   "source": [
    "## III. Pulay Forces and Mixed Basis Set"
   ]
  }
 ],
 "metadata": {
  "kernelspec": {
   "display_name": "Python 3",
   "language": "python",
   "name": "python3"
  },
  "language_info": {
   "codemirror_mode": {
    "name": "ipython",
    "version": 3
   },
   "file_extension": ".py",
   "mimetype": "text/x-python",
   "name": "python",
   "nbconvert_exporter": "python",
   "pygments_lexer": "ipython3",
   "version": "3.5.2"
  }
 },
 "nbformat": 4,
 "nbformat_minor": 2
}
